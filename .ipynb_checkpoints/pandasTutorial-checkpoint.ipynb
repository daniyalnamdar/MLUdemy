{
 "cells": [
  {
   "cell_type": "markdown",
   "metadata": {
    "pycharm": {
     "name": "#%% md\n"
    }
   },
   "source": [
    "Introducing Pandas\n",
    "\n",
    "Pandas is a Python library that makes handling tabular data easier. Since we’re doing data science - this is something we’ll use from time to time!\n",
    "It’s one of three libraries you’ll encounter repeatedly in the field of data science:\n",
    "\n",
    "Pandas\n",
    "Introduces “Data Frames” and “Series” that allow you to slice and dice rows and columns of information.\n",
    "\n",
    "NumPy\n",
    "Usually you’ll encounter “NumPy arrays”, which are multi-dimensional array objects. It is easy to create a Pandas DataFrame from a NumPy array, and Pandas DataFrames can be cast as NumPy arrays. NumPy arrays are mainly important because of…\n",
    "\n",
    "Scikit_Learn\n",
    "\n",
    "The machine learning library we’ll use throughout this course is scikit_learn, or sklearn, and it generally takes NumPy arrays as its input.\n",
    "So, a typical thing to do is to load, clean, and manipulate your input data using Pandas. Then convert your Pandas DataFrame into a NumPy array as it’s being passed into some Scikit_Learn function. That conversion can often happen automatically.\n",
    "\n",
    "Let’s start by loading some comma-separated value data using Pandas into a DataFrame:"
   ]
  },
  {
   "cell_type": "code",
   "execution_count": null,
   "metadata": {
    "pycharm": {
     "name": "#%%\n"
    }
   },
   "outputs": [],
   "source": []
  }
 ],
 "metadata": {
  "kernelspec": {
   "display_name": "Python 3 (ipykernel)",
   "language": "python",
   "name": "python3"
  },
  "language_info": {
   "codemirror_mode": {
    "name": "ipython",
    "version": 3
   },
   "file_extension": ".py",
   "mimetype": "text/x-python",
   "name": "python",
   "nbconvert_exporter": "python",
   "pygments_lexer": "ipython3",
   "version": "3.8.9"
  }
 },
 "nbformat": 4,
 "nbformat_minor": 1
}
