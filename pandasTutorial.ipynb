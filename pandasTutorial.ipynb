{
 "cells": [
  {
   "cell_type": "markdown",
   "source": [
    "Introducing Pandas\n",
    "\n",
    "Pandas is a Python library that makes handling tabular data easier. Since we’re doing data science - this is something we’ll use from time to time!\n",
    "It’s one of three libraries you’ll encounter repeatedly in the field of data science:\n",
    "\n",
    "Pandas\n",
    "Introduces “Data Frames” and “Series” that allow you to slice and dice rows and columns of information.\n",
    "\n",
    "NumPy\n",
    "Usually you’ll encounter “NumPy arrays”, which are multi-dimensional array objects. It is easy to create a Pandas DataFrame from a NumPy array, and Pandas DataFrames can be cast as NumPy arrays. NumPy arrays are mainly important because of…\n",
    "\n",
    "Scikit_Learn\n",
    "\n",
    "The machine learning library we’ll use throughout this course is scikit_learn, or sklearn, and it generally takes NumPy arrays as its input.\n",
    "So, a typical thing to do is to load, clean, and manipulate your input data using Pandas. Then convert your Pandas DataFrame into a NumPy array as it’s being passed into some Scikit_Learn function. That conversion can often happen automatically.\n",
    "\n",
    "Let’s start by loading some comma-separated value data using Pandas into a DataFrame:"
   ],
   "metadata": {
    "collapsed": false,
    "pycharm": {
     "name": "#%% md\n"
    }
   }
  },
  {
   "cell_type": "code",
   "execution_count": null,
   "outputs": [],
   "source": [],
   "metadata": {
    "collapsed": false,
    "pycharm": {
     "name": "#%%\n"
    }
   }
  }
 ],
 "metadata": {
  "kernelspec": {
   "display_name": "Python 3",
   "language": "python",
   "name": "python3"
  },
  "language_info": {
   "codemirror_mode": {
    "name": "ipython",
    "version": 2
   },
   "file_extension": ".py",
   "mimetype": "text/x-python",
   "name": "python",
   "nbconvert_exporter": "python",
   "pygments_lexer": "ipython2",
   "version": "2.7.6"
  }
 },
 "nbformat": 4,
 "nbformat_minor": 0
}