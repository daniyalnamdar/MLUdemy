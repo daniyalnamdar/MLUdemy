{
 "cells": [
  {
   "cell_type": "markdown",
   "metadata": {
    "collapsed": true,
    "pycharm": {
     "name": "#%% md\n"
    }
   },
   "source": [
    "# Mean, Median, Mode, and introducing NumPy"
   ]
  },
  {
   "cell_type": "markdown",
   "metadata": {
    "pycharm": {
     "name": "#%% md\n"
    }
   },
   "source": [
    "# Mean vs. Median"
   ]
  },
  {
   "cell_type": "markdown",
   "metadata": {},
   "source": [
    "Let’s create some fake income data, centered around 27,000 with a normal distribution and standard deviation of 15,000, with 10,000 data points. (We’ll discuss those terms more later, if you’re not familiar with them.)\n",
    "Then, compute the mean (average) - it should be close to 27,000:\n"
   ]
  },
  {
   "cell_type": "code",
   "execution_count": 4,
   "metadata": {},
   "outputs": [
    {
     "data": {
      "text/plain": [
       "27181.621966425504"
      ]
     },
     "execution_count": 4,
     "metadata": {},
     "output_type": "execute_result"
    }
   ],
   "source": [
    "import numpy as np\n",
    "\n",
    "incomes = np.random.normal(27000, 15000, 10000)\n",
    "np.mean(incomes)"
   ]
  },
  {
   "cell_type": "code",
   "execution_count": 9,
   "metadata": {},
   "outputs": [
    {
     "data": {
      "image/png": "[encoded data removed]",
      "text/plain": [
       "<Figure size 640x480 with 1 Axes>"
      ]
     },
     "metadata": {},
     "output_type": "display_data"
    }
   ],
   "source": [
    "%matplotlib inline\n",
    "import matplotlib.pyplot as plt\n",
    "plt.hist(incomes, 50)\n",
    "plt.show()"
   ]
  },
  {
   "cell_type": "code",
   "execution_count": 11,
   "metadata": {},
   "outputs": [
    {
     "data": {
      "text/plain": [
       "27203.878394889067"
      ]
     },
     "execution_count": 11,
     "metadata": {},
     "output_type": "execute_result"
    }
   ],
   "source": [
    "np.median(incomes)"
   ]
  },
  {
   "cell_type": "code",
   "execution_count": 13,
   "metadata": {},
   "outputs": [],
   "source": [
    "incomes = np.append(incomes, [1000000000])"
   ]
  },
  {
   "cell_type": "code",
   "execution_count": 14,
   "metadata": {},
   "outputs": [
    {
     "data": {
      "text/plain": [
       "127215.03830991499"
      ]
     },
     "execution_count": 14,
     "metadata": {},
     "output_type": "execute_result"
    }
   ],
   "source": [
    "np.mean(incomes)"
   ]
  },
  {
   "cell_type": "code",
   "execution_count": 15,
   "metadata": {},
   "outputs": [
    {
     "data": {
      "text/plain": [
       "27205.4538882926"
      ]
     },
     "execution_count": 15,
     "metadata": {},
     "output_type": "execute_result"
    }
   ],
   "source": [
    "np.median(incomes)"
   ]
  },
  {
   "cell_type": "code",
   "execution_count": 18,
   "metadata": {},
   "outputs": [
    {
     "data": {
      "text/plain": [
       "array([55, 49, 81, 24, 59, 84, 44, 60, 28, 48, 86, 22, 60, 87, 57, 44, 28,\n",
       "       53, 48, 47, 18, 47, 83, 63, 44, 88, 67, 84, 48, 31, 48, 65, 84, 22,\n",
       "       82, 58, 52, 80, 45, 25, 48, 73, 27, 19, 71, 57, 26, 23, 50, 30, 48,\n",
       "       66, 26, 34, 69, 88, 40, 89, 39, 77, 29, 89, 63, 33, 40, 61, 31, 50,\n",
       "       50, 76, 66, 51, 34, 50, 34, 83, 53, 56, 32, 75, 42, 33, 85, 21, 71,\n",
       "       58, 58, 82, 61, 58, 24, 48, 21, 58, 59, 59, 80, 53, 31, 52, 63, 19,\n",
       "       58, 56, 52, 70, 75, 78, 64, 79, 42, 61, 22, 79, 57, 78, 74, 20, 59,\n",
       "       57, 29, 22, 57, 32, 27, 19, 56, 52, 21, 64, 48, 34, 54, 61, 70, 78,\n",
       "       34, 39, 41, 33, 88, 34, 62, 56, 56, 68, 81, 65, 89, 86, 29, 37, 69,\n",
       "       45, 26, 42, 81, 65, 89, 48, 73, 52, 36, 25, 36, 81, 33, 81, 22, 41,\n",
       "       82, 36, 50, 59, 53, 88, 26, 72, 49, 24, 74, 80, 51, 82, 44, 44, 27,\n",
       "       33, 78, 81, 76, 56, 35, 63, 54, 41, 28, 44, 67, 75, 85, 64, 40, 52,\n",
       "       28, 50, 65, 52, 19, 65, 65, 27, 56, 26, 50, 66, 22, 71, 25, 35, 75,\n",
       "       49, 45, 51, 65, 69, 73, 24, 74, 72, 48, 57, 41, 57, 70, 30, 21, 85,\n",
       "       48, 65, 57, 74, 83, 89, 42, 46, 56, 59, 61, 29, 72, 52, 40, 29, 56,\n",
       "       79, 22, 77, 33, 70, 78, 20, 66, 82, 79, 60, 51, 21, 88, 21, 79, 26,\n",
       "       20, 50, 61, 86, 88, 81, 81, 85, 22, 43, 72, 69, 83, 89, 51, 40, 55,\n",
       "       62, 77, 33, 47, 34, 31, 68, 60, 79, 68, 32, 42, 58, 22, 48, 35, 76,\n",
       "       42, 28, 22, 56, 35, 35, 89, 64, 76, 22, 78, 49, 85, 49, 34, 87, 48,\n",
       "       34, 36, 25, 56, 76, 30, 85, 36, 58, 59, 75, 72, 83, 68, 50, 74, 30,\n",
       "       58, 37, 68, 39, 48, 37, 55, 42, 83, 40, 48, 22, 45, 61, 69, 75, 61,\n",
       "       77, 71, 49, 87, 84, 27, 39, 56, 34, 68, 29, 66, 47, 30, 82, 36, 78,\n",
       "       76, 23, 63, 86, 59, 82, 86, 24, 49, 20, 29, 53, 35, 80, 73, 58, 28,\n",
       "       78, 83, 85, 29, 47, 27, 73, 48, 38, 22, 78, 70, 52, 19, 86, 76, 43,\n",
       "       50, 84, 46, 82, 19, 83, 73, 18, 45, 86, 34, 74, 31, 61, 63, 86, 36,\n",
       "       24, 42, 21, 73, 61, 27, 88, 34, 27, 60, 41, 30, 87, 35, 46, 86, 83,\n",
       "       37, 43, 32, 47, 27, 29, 65, 60, 60, 54, 56, 86, 55, 81, 76, 35, 44,\n",
       "       65, 61, 63, 77, 81, 79, 89, 57, 20, 50, 25, 76, 63, 31, 24, 64, 60,\n",
       "       72, 78, 70, 50, 42, 61, 62, 35, 31, 81, 55, 75, 81, 31, 60, 85, 84,\n",
       "       49, 23, 32, 49, 30, 44, 67])"
      ]
     },
     "execution_count": 18,
     "metadata": {},
     "output_type": "execute_result"
    }
   ],
   "source": [
    "ages = np.random.randint(18, high=90, size=500)\n",
    "ages"
   ]
  },
  {
   "cell_type": "code",
   "execution_count": 24,
   "metadata": {},
   "outputs": [
    {
     "name": "stderr",
     "output_type": "stream",
     "text": [
      "/var/folders/qf/1g0v940j6tj13nrpz7l38dsw0000gn/T/ipykernel_5057/2929981569.py:2: FutureWarning: Unlike other reduction functions (e.g. `skew`, `kurtosis`), the default behavior of `mode` typically preserves the axis it acts along. In SciPy 1.11.0, this behavior will change: the default value of `keepdims` will become False, the `axis` over which the statistic is taken will be eliminated, and the value None will no longer be accepted. Set `keepdims` to True or False to avoid this warning.\n",
      "  stats.mode(ages)\n"
     ]
    },
    {
     "data": {
      "text/plain": [
       "ModeResult(mode=array([48]), count=array([16]))"
      ]
     },
     "execution_count": 24,
     "metadata": {},
     "output_type": "execute_result"
    }
   ],
   "source": [
    "from scipy import stats\n",
    "stats.mode(ages)\n"
   ]
  },
  {
   "cell_type": "code",
   "execution_count": null,
   "metadata": {},
   "outputs": [],
   "source": []
  }
 ],
 "metadata": {
  "kernelspec": {
   "display_name": "Python 3 (ipykernel)",
   "language": "python",
   "name": "python3"
  },
  "language_info": {
   "codemirror_mode": {
    "name": "ipython",
    "version": 3
   },
   "file_extension": ".py",
   "mimetype": "text/x-python",
   "name": "python",
   "nbconvert_exporter": "python",
   "pygments_lexer": "ipython3",
   "version": "3.8.9"
  }
 },
 "nbformat": 4,
 "nbformat_minor": 1
}